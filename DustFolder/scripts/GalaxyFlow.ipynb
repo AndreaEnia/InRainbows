{
 "cells": [
  {
   "cell_type": "markdown",
   "metadata": {},
   "source": [
    "Welcome to my ambitious single do-it-all script."
   ]
  },
  {
   "cell_type": "code",
   "execution_count": 2,
   "metadata": {},
   "outputs": [],
   "source": [
    "import sys, os, subprocess\n",
    "galaxy_folder_path = os.getcwd()\n",
    "sys.path.insert(0, '../')\n",
    "import DustpediaScripts as DS\n",
    "sys.path.insert(0, '../scripts/')\n",
    "import GenericUsefulScripts as GUS\n",
    "from astropy import units as u\n",
    "import pandas as pd\n",
    "\n",
    "import DataReduction as DataRed\n",
    "import PhotometryScripts as PhotoScripts\n",
    "import SedFittingScripts as SEDfit\n",
    "import ResultsScripts as ResScripts\n",
    "\n",
    "%matplotlib inline\n",
    "# Or widget, if you feel brave\n",
    "\n",
    "# Change these lines accordingly\n",
    "galaxy_name = ' '\n",
    "working_bands = ['GALEX_FUV', 'GALEX_NUV', 'SDSS_u', 'SDSS_g', 'SDSS_r', 'SDSS_i', 'SDSS_z', \\\n",
    "                 '2MASS_J', '2MASS_H', '2MASS_Ks', 'WISE_3.4', 'Spitzer_3.6', 'Spitzer_4.5', \\\n",
    "                 'WISE_4.6', 'Spitzer_8.0', 'WISE_12', 'WISE_22',\\\n",
    "                 'PACS_70', 'PACS_100', 'PACS_160', 'SPIRE_250', 'SPIRE_350']\n",
    "# Not all error maps are available, usually it reduces to these ones\n",
    "# For other bands, error will come from rms evaluation\n",
    "error_bands = ['Spitzer_8.0', 'PACS_70', 'PACS_100', 'PACS_160', 'SPIRE_250', 'SPIRE_350']\n",
    "\n",
    "galaxy_properties = GUS.GalaxyProperties(galaxy_name)"
   ]
  },
  {
   "cell_type": "markdown",
   "metadata": {},
   "source": [
    "- First things first, download the data, run CAAPR for starsub"
   ]
  },
  {
   "cell_type": "code",
   "execution_count": 3,
   "metadata": {},
   "outputs": [],
   "source": [
    "do_download = False\n",
    "do_download_errors = False\n",
    "\n",
    "if do_download == True:\n",
    "    GUS.download_data(galaxy_name, working_bands, download_directory = 'Caapr/Maps/')\n",
    "    subprocess.call('mkdir _ReducedMaps', shell = True)\n",
    "if do_download_errors == True:\n",
    "    subprocess.call('mkdir _ReducedMaps', shell = True)\n",
    "    GUS.download_data_errors(galaxy_name, error_bands, download_directory = '_ReducedMaps/ERROR_MAPS/')"
   ]
  },
  {
   "cell_type": "markdown",
   "metadata": {},
   "source": [
    "- In principle, you want to use CAAPR to star subtract the images. In practice, the starsub is far from perfect, so I usually skip this part"
   ]
  },
  {
   "cell_type": "code",
   "execution_count": 3,
   "metadata": {},
   "outputs": [],
   "source": [
    "#do_CAAPR = False\n",
    "#if do_CAAPR == True: GUS.run_CAAPR(galaxy_name)"
   ]
  },
  {
   "cell_type": "markdown",
   "metadata": {},
   "source": [
    "- Once we have the CAAPR star subtracted images, it's time for a little data reduction of our own."
   ]
  },
  {
   "cell_type": "code",
   "execution_count": 4,
   "metadata": {},
   "outputs": [],
   "source": [
    "do_datareduction = False\n",
    "check_datareduction = False \n",
    "\n",
    "if do_datareduction: DataRed.data_reduction_parallel(galaxy_name, processes = 5, path_fits_input = 'Caapr/Maps')\n",
    "if check_datareduction: DataRed.check_Dustpedia(galaxy_name, working_bands)"
   ]
  },
  {
   "cell_type": "markdown",
   "metadata": {},
   "source": [
    "- Ok, next phase is photometry. This is articulated in three steps:\n",
    "    - zero, evaluate rms per pixel in each band\n",
    "    - first, generate the grid of coordinates\n",
    "    - second, perform photometry\n",
    "    - third, build the tables to feed MAGPHYS for SED fitting"
   ]
  },
  {
   "cell_type": "code",
   "execution_count": 5,
   "metadata": {},
   "outputs": [],
   "source": [
    "# Difference between v1 and v2:\n",
    "# -v1 is new, and I rewrote the estimation after this year in Bologna\n",
    "# -v2 is the one I used in the papers, basically copy-pasted from CAAPR\n",
    "# More details in the README.\n",
    "evaluate_rms = False\n",
    "if evaluate_rms:\n",
    "    PhotoScripts.evaluate_rms(galaxy_properties, version = 'v1')"
   ]
  },
  {
   "cell_type": "code",
   "execution_count": 2,
   "metadata": {},
   "outputs": [],
   "source": [
    "# Change these values accordingly\n",
    "run_type = ' '\n",
    "aperture_side = \n",
    "reference_map_4grid = \n",
    "reference_map_4check =  \n",
    "grid_extention_from_center =  \n",
    "plot_radius =  "
   ]
  },
  {
   "cell_type": "code",
   "execution_count": 6,
   "metadata": {},
   "outputs": [],
   "source": [
    "generate_grid = False\n",
    "check_grid = False\n",
    "\n",
    "if generate_grid:\n",
    "    # The semimajor axis, angle and axial ratio over which the script will NOT generate coordinates\n",
    "    # If False, the values are taken from DustPedia tables\n",
    "    semimaj_avoidance =  \n",
    "    avoidance_angle = \n",
    "    avoidance_axial_ratio =  \n",
    "    PhotoScripts.generate_coordinate_grid_within_DustAp(galaxy_properties, reference_map_4grid, aperture_side, \\\n",
    "                                                        run_type, grid_extention_from_center, \\\n",
    "                                                        semimaj_avoidance, avoidance_angle, avoidance_axial_ratio)\n",
    "if check_grid:\n",
    "    PhotoScripts.check_coordinate_grid(galaxy_properties, reference_map_4check, run_type, plot_radius)"
   ]
  },
  {
   "cell_type": "code",
   "execution_count": 7,
   "metadata": {},
   "outputs": [],
   "source": [
    "do_photometry = False\n",
    "if do_photometry:\n",
    "    PhotoScripts.do_photometry_build_table(galaxy_properties, working_bands, aperture_side, run_type, \\\n",
    "                                  SNR_threshold = 2, skip_value = 10, remove_weird_points = True)"
   ]
  },
  {
   "cell_type": "markdown",
   "metadata": {},
   "source": [
    "- There's not much left to do, just run MAGPHYS"
   ]
  },
  {
   "cell_type": "code",
   "execution_count": 8,
   "metadata": {},
   "outputs": [],
   "source": [
    "do_magphys_preliminary = False\n",
    "do_run_magphys = False\n",
    "if do_magphys_preliminary:\n",
    "    exclude_filters = False # If you want to exclude a filter from MAGPHYS fit, for whatever reasons\n",
    "    SEDfit.prepare_magphys(galaxy_name, run_type, working_bands, 'almost_fill_cores', exclude_filters = exclude_filters)\n",
    "if do_run_magphys:\n",
    "    SEDfit.run_magphys(galaxy_name, run_type)"
   ]
  },
  {
   "cell_type": "markdown",
   "metadata": {},
   "source": [
    "- Final phase, move magphys results out of magphys folder"
   ]
  },
  {
   "cell_type": "code",
   "execution_count": 9,
   "metadata": {},
   "outputs": [],
   "source": [
    "do_move_results = True\n",
    "\n",
    "if do_move_results:\n",
    "    status = SEDfit.move_results(galaxy_name, run_type, galaxy_folder_path)\n",
    "    if status == 'over': SEDfit.check_results(galaxy_name, run_type, galaxy_folder_path)"
   ]
  },
  {
   "cell_type": "code",
   "execution_count": 8,
   "metadata": {},
   "outputs": [],
   "source": [
    "do_read_results = False\n",
    "if do_read_results:\n",
    "    ResScripts.read_magphys(galaxy_properties, run_type, aperture_side)\n",
    "\n",
    "do_clustering_removal = False\n",
    "if do_clustering_removal:\n",
    "    ResScripts.clustering_removal(galaxy_properties, run_type, eps_value = , s_size = )"
   ]
  },
  {
   "cell_type": "code",
   "execution_count": 9,
   "metadata": {},
   "outputs": [],
   "source": [
    "do_plot_results = False\n",
    "do_plot_seds = False\n",
    "\n",
    "if do_plot_results:\n",
    "    ResScripts.plot_results(galaxy_properties, run_type, aperture_side, 'PACS_160', \\\n",
    "                            chisq_threshold = 25, \\\n",
    "                            plot_size = 15*u.kpc, s_size = 80)\n",
    "if do_plot_seds:\n",
    "    ResScripts.plot_seds(galaxy_properties, run_type, aperture_side, 'SDSS_u', plot_radius)"
   ]
  },
  {
   "cell_type": "markdown",
   "metadata": {},
   "source": [
    "---"
   ]
  }
 ],
 "metadata": {
  "kernelspec": {
   "display_name": "Python 3",
   "language": "python",
   "name": "python3"
  },
  "language_info": {
   "codemirror_mode": {
    "name": "ipython",
    "version": 3
   },
   "file_extension": ".py",
   "mimetype": "text/x-python",
   "name": "python",
   "nbconvert_exporter": "python",
   "pygments_lexer": "ipython3",
   "version": "3.8.5"
  }
 },
 "nbformat": 4,
 "nbformat_minor": 4
}
