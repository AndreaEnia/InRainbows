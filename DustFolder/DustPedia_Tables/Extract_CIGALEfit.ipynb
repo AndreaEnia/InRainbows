{
 "cells": [
  {
   "cell_type": "code",
   "execution_count": 1,
   "metadata": {
    "collapsed": true
   },
   "outputs": [],
   "source": [
    "import os, sys, subprocess\n",
    "import numpy as np\n",
    "import pandas as pd\n",
    "df_DLmodel = pd.read_csv('dustpedia_cigale_results_dl14_final_version.csv')\n",
    "df_THEMIS = pd.read_csv('dustpedia_cigale_results_final_version.csv')"
   ]
  },
  {
   "cell_type": "code",
   "execution_count": 2,
   "metadata": {},
   "outputs": [
    {
     "name": "stderr",
     "output_type": "stream",
     "text": [
      "/home/enia/anaconda2/lib/python2.7/site-packages/ipykernel_launcher.py:7: SettingWithCopyWarning: \n",
      "A value is trying to be set on a copy of a slice from a DataFrame.\n",
      "Try using .loc[row_indexer,col_indexer] = value instead\n",
      "\n",
      "See the caveats in the documentation: http://pandas.pydata.org/pandas-docs/stable/indexing.html#indexing-view-versus-copy\n",
      "  import sys\n",
      "/home/enia/anaconda2/lib/python2.7/site-packages/ipykernel_launcher.py:18: SettingWithCopyWarning: \n",
      "A value is trying to be set on a copy of a slice from a DataFrame.\n",
      "Try using .loc[row_indexer,col_indexer] = value instead\n",
      "\n",
      "See the caveats in the documentation: http://pandas.pydata.org/pandas-docs/stable/indexing.html#indexing-view-versus-copy\n"
     ]
    }
   ],
   "source": [
    "#galaxies = ['NGC0628', 'NGC3184', 'NGC3938', 'NGC4254', 'NGC4321', 'NGC4535', 'NGC5194', 'NGC5457', 'NGC7331', 'NGC5055']\n",
    "galaxies = ['NGC2403', 'NGC3351', 'NGC4579', 'NGC4725', 'NGC4736', 'NGC5713']\n",
    "index = pd.MultiIndex.from_tuples(galaxies)\n",
    "\n",
    "subset_THEMIS = df_THEMIS.loc[df_THEMIS['id'].isin(galaxies)]\n",
    "SFR = subset_THEMIS['SFR__Msol_per_yr']*0.63\n",
    "subset_THEMIS['SFR_Chab'] = np.round(SFR, 2)\n",
    "subset_THEMIS = subset_THEMIS[['SFR_Chab'] + subset_THEMIS.columns[:-1].tolist()]\n",
    "logMstar = np.log10(subset_THEMIS['Mstar__Msol']) - 0.23\n",
    "subset_THEMIS['logMstar_Chab'] = np.round(logMstar, 2)\n",
    "subset_THEMIS = subset_THEMIS[['logMstar_Chab'] + subset_THEMIS.columns[:-1].tolist()]\n",
    "subset_THEMIS = subset_THEMIS[['id'] + subset_THEMIS.columns[:-1].tolist()]\n",
    "#subset_THEMIS.to_csv('sample_CIGALE+THEMIS.csv', index = False)\n",
    "subset_THEMIS.to_csv('sample2_CIGALE+THEMIS.csv', index = False)\n",
    "\n",
    "subset_DLmodel = df_DLmodel.loc[df_DLmodel['id'].isin(galaxies)]\n",
    "SFR = subset_DLmodel['SFR__Msol_per_yr']*0.63\n",
    "subset_DLmodel['SFR_Chab'] = np.round(SFR, 2)\n",
    "subset_DLmodel = subset_DLmodel[['SFR_Chab'] + subset_DLmodel.columns[:-1].tolist()]\n",
    "logMstar = np.log10(subset_DLmodel['Mstar__Msol']) - 0.23\n",
    "subset_DLmodel['logMstar_Chab'] = np.round(logMstar, 2)\n",
    "subset_DLmodel = subset_DLmodel[['logMstar_Chab'] + subset_DLmodel.columns[:-1].tolist()]\n",
    "subset_DLmodel = subset_DLmodel[['id'] + subset_DLmodel.columns[:-1].tolist()]\n",
    "#subset_DLmodel.to_csv('sample_CIGALE+DLmodel.csv', index = False)\n",
    "subset_DLmodel.to_csv('sample2_CIGALE+DLmodel.csv', index = False)"
   ]
  }
 ],
 "metadata": {
  "kernelspec": {
   "display_name": "Python 2",
   "language": "python",
   "name": "python2"
  },
  "language_info": {
   "codemirror_mode": {
    "name": "ipython",
    "version": 2
   },
   "file_extension": ".py",
   "mimetype": "text/x-python",
   "name": "python",
   "nbconvert_exporter": "python",
   "pygments_lexer": "ipython2",
   "version": "2.7.16"
  }
 },
 "nbformat": 4,
 "nbformat_minor": 2
}
